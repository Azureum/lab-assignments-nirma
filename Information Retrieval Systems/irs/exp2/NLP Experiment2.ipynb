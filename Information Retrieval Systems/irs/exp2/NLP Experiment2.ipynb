{
 "cells": [
  {
   "cell_type": "code",
   "execution_count": 33,
   "metadata": {
    "collapsed": false
   },
   "outputs": [],
   "source": [
    "import nltk\n",
    "from nltk.tokenize import sent_tokenize, word_tokenize\n",
    "from nltk.corpus import stopwords\n",
    "from nltk.stem import PorterStemmer\n",
    "file = open(\"essay.txt\",\"r\")"
   ]
  },
  {
   "cell_type": "code",
   "execution_count": 28,
   "metadata": {
    "collapsed": false
   },
   "outputs": [
    {
     "name": "stdout",
     "output_type": "stream",
     "text": [
      "An essay is, generally, a piece of writing that gives the author's own argument — but the definition is vague, overlapping with those of an article, a pamphlet, and a short story. Essays have traditionally been sub-classified as formal and informal. Formal essays are characterized by \"serious purpose, dignity, logical organization, length,\" whereas the informal essay is characterized by \"the personal element (self-revelation, individual tastes and experiences, confidential manner), humor, graceful style, rambling structure, unconventionality or novelty of theme,\" etc.[1]\n",
      "\n",
      "Essays are commonly used as literary criticism, political manifestos, learned arguments, observations of daily life, recollections, and reflections of the author. Almost all modern essays are written in prose, but works in verse have been dubbed essays (e.g., Alexander Pope's An Essay on Criticism and An Essay on Man). While brevity usually defines an essay, voluminous works like John Locke's An Essay Concerning Human Understanding and Thomas Malthus's An Essay on the Principle of Population are counterexamples. In some countries (e.g., the United States and Canada), essays have become a major part of formal education. Secondary students are taught structured essay formats to improve their writing skills; admission essays are often used by universities in selecting applicants, and in the humanities and social sciences essays are often used as a way of assessing the performance of students during final exams.\n",
      "\n",
      "The concept of an \"essay\" has been extended to other mediums beyond writing. A film essay is a movie that often incorporates documentary filmmaking styles and focuses more on the evolution of a theme or idea. A photographic essay covers a topic with a linked series of photographs that may have accompanying text or captions.\n"
     ]
    }
   ],
   "source": [
    "text = file.read()\n",
    "print(text)"
   ]
  },
  {
   "cell_type": "code",
   "execution_count": 29,
   "metadata": {
    "collapsed": false
   },
   "outputs": [
    {
     "name": "stdout",
     "output_type": "stream",
     "text": [
      "[\"An essay is, generally, a piece of writing that gives the author's own argument — but the definition is vague, overlapping with those of an article, a pamphlet, and a short story.\", 'Essays have traditionally been sub-classified as formal and informal.', 'Formal essays are characterized by \"serious purpose, dignity, logical organization, length,\" whereas the informal essay is characterized by \"the personal element (self-revelation, individual tastes and experiences, confidential manner), humor, graceful style, rambling structure, unconventionality or novelty of theme,\" etc.', '[1]\\n\\nEssays are commonly used as literary criticism, political manifestos, learned arguments, observations of daily life, recollections, and reflections of the author.', \"Almost all modern essays are written in prose, but works in verse have been dubbed essays (e.g., Alexander Pope's An Essay on Criticism and An Essay on Man).\", \"While brevity usually defines an essay, voluminous works like John Locke's An Essay Concerning Human Understanding and Thomas Malthus's An Essay on the Principle of Population are counterexamples.\", 'In some countries (e.g., the United States and Canada), essays have become a major part of formal education.', 'Secondary students are taught structured essay formats to improve their writing skills; admission essays are often used by universities in selecting applicants, and in the humanities and social sciences essays are often used as a way of assessing the performance of students during final exams.', 'The concept of an \"essay\" has been extended to other mediums beyond writing.', 'A film essay is a movie that often incorporates documentary filmmaking styles and focuses more on the evolution of a theme or idea.', 'A photographic essay covers a topic with a linked series of photographs that may have accompanying text or captions.']\n"
     ]
    }
   ],
   "source": [
    "senttoken = sent_tokenize(text)\n",
    "print(senttoken)"
   ]
  },
  {
   "cell_type": "code",
   "execution_count": 30,
   "metadata": {
    "collapsed": false
   },
   "outputs": [
    {
     "name": "stdout",
     "output_type": "stream",
     "text": [
      "['An', 'essay', 'is', ',', 'generally', ',', 'a', 'piece', 'of', 'writing', 'that', 'gives', 'the', 'author', \"'s\", 'own', 'argument', '—', 'but', 'the', 'definition', 'is', 'vague', ',', 'overlapping', 'with', 'those', 'of', 'an', 'article', ',', 'a', 'pamphlet', ',', 'and', 'a', 'short', 'story', '.', 'Essays', 'have', 'traditionally', 'been', 'sub-classified', 'as', 'formal', 'and', 'informal', '.', 'Formal', 'essays', 'are', 'characterized', 'by', '``', 'serious', 'purpose', ',', 'dignity', ',', 'logical', 'organization', ',', 'length', ',', \"''\", 'whereas', 'the', 'informal', 'essay', 'is', 'characterized', 'by', '``', 'the', 'personal', 'element', '(', 'self-revelation', ',', 'individual', 'tastes', 'and', 'experiences', ',', 'confidential', 'manner', ')', ',', 'humor', ',', 'graceful', 'style', ',', 'rambling', 'structure', ',', 'unconventionality', 'or', 'novelty', 'of', 'theme', ',', \"''\", 'etc', '.', '[', '1', ']', 'Essays', 'are', 'commonly', 'used', 'as', 'literary', 'criticism', ',', 'political', 'manifestos', ',', 'learned', 'arguments', ',', 'observations', 'of', 'daily', 'life', ',', 'recollections', ',', 'and', 'reflections', 'of', 'the', 'author', '.', 'Almost', 'all', 'modern', 'essays', 'are', 'written', 'in', 'prose', ',', 'but', 'works', 'in', 'verse', 'have', 'been', 'dubbed', 'essays', '(', 'e.g.', ',', 'Alexander', 'Pope', \"'s\", 'An', 'Essay', 'on', 'Criticism', 'and', 'An', 'Essay', 'on', 'Man', ')', '.', 'While', 'brevity', 'usually', 'defines', 'an', 'essay', ',', 'voluminous', 'works', 'like', 'John', 'Locke', \"'s\", 'An', 'Essay', 'Concerning', 'Human', 'Understanding', 'and', 'Thomas', 'Malthus', \"'s\", 'An', 'Essay', 'on', 'the', 'Principle', 'of', 'Population', 'are', 'counterexamples', '.', 'In', 'some', 'countries', '(', 'e.g.', ',', 'the', 'United', 'States', 'and', 'Canada', ')', ',', 'essays', 'have', 'become', 'a', 'major', 'part', 'of', 'formal', 'education', '.', 'Secondary', 'students', 'are', 'taught', 'structured', 'essay', 'formats', 'to', 'improve', 'their', 'writing', 'skills', ';', 'admission', 'essays', 'are', 'often', 'used', 'by', 'universities', 'in', 'selecting', 'applicants', ',', 'and', 'in', 'the', 'humanities', 'and', 'social', 'sciences', 'essays', 'are', 'often', 'used', 'as', 'a', 'way', 'of', 'assessing', 'the', 'performance', 'of', 'students', 'during', 'final', 'exams', '.', 'The', 'concept', 'of', 'an', '``', 'essay', \"''\", 'has', 'been', 'extended', 'to', 'other', 'mediums', 'beyond', 'writing', '.', 'A', 'film', 'essay', 'is', 'a', 'movie', 'that', 'often', 'incorporates', 'documentary', 'filmmaking', 'styles', 'and', 'focuses', 'more', 'on', 'the', 'evolution', 'of', 'a', 'theme', 'or', 'idea', '.', 'A', 'photographic', 'essay', 'covers', 'a', 'topic', 'with', 'a', 'linked', 'series', 'of', 'photographs', 'that', 'may', 'have', 'accompanying', 'text', 'or', 'captions', '.']\n"
     ]
    }
   ],
   "source": [
    "wordtoken = word_tokenize(text)\n",
    "print(wordtoken)"
   ]
  },
  {
   "cell_type": "code",
   "execution_count": 31,
   "metadata": {
    "collapsed": false
   },
   "outputs": [
    {
     "name": "stdout",
     "output_type": "stream",
     "text": [
      "['An', 'essay', ',', 'generally', ',', 'piece', 'writing', 'gives', 'author', \"'s\", 'argument', '—', 'definition', 'vague', ',', 'overlapping', 'article', ',', 'pamphlet', ',', 'short', 'story', '.', 'Essays', 'traditionally', 'sub-classified', 'formal', 'informal', '.', 'Formal', 'essays', 'characterized', '``', 'serious', 'purpose', ',', 'dignity', ',', 'logical', 'organization', ',', 'length', ',', \"''\", 'whereas', 'informal', 'essay', 'characterized', '``', 'personal', 'element', '(', 'self-revelation', ',', 'individual', 'tastes', 'experiences', ',', 'confidential', 'manner', ')', ',', 'humor', ',', 'graceful', 'style', ',', 'rambling', 'structure', ',', 'unconventionality', 'novelty', 'theme', ',', \"''\", 'etc', '.', '[', '1', ']', 'Essays', 'commonly', 'used', 'literary', 'criticism', ',', 'political', 'manifestos', ',', 'learned', 'arguments', ',', 'observations', 'daily', 'life', ',', 'recollections', ',', 'reflections', 'author', '.', 'Almost', 'modern', 'essays', 'written', 'prose', ',', 'works', 'verse', 'dubbed', 'essays', '(', 'e.g.', ',', 'Alexander', 'Pope', \"'s\", 'An', 'Essay', 'Criticism', 'An', 'Essay', 'Man', ')', '.', 'While', 'brevity', 'usually', 'defines', 'essay', ',', 'voluminous', 'works', 'like', 'John', 'Locke', \"'s\", 'An', 'Essay', 'Concerning', 'Human', 'Understanding', 'Thomas', 'Malthus', \"'s\", 'An', 'Essay', 'Principle', 'Population', 'counterexamples', '.', 'In', 'countries', '(', 'e.g.', ',', 'United', 'States', 'Canada', ')', ',', 'essays', 'become', 'major', 'part', 'formal', 'education', '.', 'Secondary', 'students', 'taught', 'structured', 'essay', 'formats', 'improve', 'writing', 'skills', ';', 'admission', 'essays', 'often', 'used', 'universities', 'selecting', 'applicants', ',', 'humanities', 'social', 'sciences', 'essays', 'often', 'used', 'way', 'assessing', 'performance', 'students', 'final', 'exams', '.', 'The', 'concept', '``', 'essay', \"''\", 'extended', 'mediums', 'beyond', 'writing', '.', 'A', 'film', 'essay', 'movie', 'often', 'incorporates', 'documentary', 'filmmaking', 'styles', 'focuses', 'evolution', 'theme', 'idea', '.', 'A', 'photographic', 'essay', 'covers', 'topic', 'linked', 'series', 'photographs', 'may', 'accompanying', 'text', 'captions', '.']\n"
     ]
    }
   ],
   "source": [
    "stop_words = set(stopwords.words('english'))\n",
    "\n",
    "filtered_sentence = [w for w in wordtoken if not w in stop_words]\n",
    "      \n",
    "print(filtered_sentence)"
   ]
  },
  {
   "cell_type": "code",
   "execution_count": 32,
   "metadata": {
    "collapsed": false
   },
   "outputs": [
    {
     "name": "stdout",
     "output_type": "stream",
     "text": [
      "['is', 'a', 'of', 'that', 'the', 'own', 'but', 'the', 'is', 'with', 'those', 'of', 'an', 'a', 'and', 'a', 'have', 'been', 'as', 'and', 'are', 'by', 'the', 'is', 'by', 'the', 'and', 'or', 'of', 'are', 'as', 'of', 'and', 'of', 'the', 'all', 'are', 'in', 'but', 'in', 'have', 'been', 'on', 'and', 'on', 'an', 'and', 'on', 'the', 'of', 'are', 'some', 'the', 'and', 'have', 'a', 'of', 'are', 'to', 'their', 'are', 'by', 'in', 'and', 'in', 'the', 'and', 'are', 'as', 'a', 'of', 'the', 'of', 'during', 'of', 'an', 'has', 'been', 'to', 'other', 'is', 'a', 'that', 'and', 'more', 'on', 'the', 'of', 'a', 'or', 'a', 'with', 'a', 'of', 'that', 'have', 'or']\n"
     ]
    }
   ],
   "source": [
    "removed = [w for w in wordtoken if not w in filtered_sentence]\n",
    "print(removed)"
   ]
  },
  {
   "cell_type": "code",
   "execution_count": 45,
   "metadata": {
    "collapsed": false
   },
   "outputs": [
    {
     "name": "stdout",
     "output_type": "stream",
     "text": [
      "['An', 'essay', ',', 'gener', ',', 'piec', 'write', 'give', 'author', \"'s\", 'argument', '—', 'definit', 'vagu', ',', 'overlap', 'articl', ',', 'pamphlet', ',', 'short', 'stori', '.', 'Essay', 'tradit', 'sub-classifi', 'formal', 'inform', '.', 'Formal', 'essay', 'character', '``', 'seriou', 'purpos', ',', 'digniti', ',', 'logic', 'organ', ',', 'length', ',', \"''\", 'wherea', 'inform', 'essay', 'character', '``', 'person', 'element', '(', 'self-revel', ',', 'individu', 'tast', 'experi', ',', 'confidenti', 'manner', ')', ',', 'humor', ',', 'grace', 'style', ',', 'rambl', 'structur', ',', 'unconvention', 'novelti', 'theme', ',', \"''\", 'etc', '.', '[', '1', ']', 'Essay', 'commonli', 'use', 'literari', 'critic', ',', 'polit', 'manifesto', ',', 'learn', 'argument', ',', 'observ', 'daili', 'life', ',', 'recollect', ',', 'reflect', 'author', '.', 'Almost', 'modern', 'essay', 'written', 'prose', ',', 'work', 'vers', 'dub', 'essay', '(', 'e.g.', ',', 'Alexand', 'Pope', \"'s\", 'An', 'Essay', 'Critic', 'An', 'Essay', 'Man', ')', '.', 'While', 'breviti', 'usual', 'defin', 'essay', ',', 'volumin', 'work', 'like', 'John', 'Lock', \"'s\", 'An', 'Essay', 'Concern', 'Human', 'Understand', 'Thoma', 'Malthu', \"'s\", 'An', 'Essay', 'Principl', 'Popul', 'counterexampl', '.', 'In', 'countri', '(', 'e.g.', ',', 'Unit', 'State', 'Canada', ')', ',', 'essay', 'becom', 'major', 'part', 'formal', 'educ', '.', 'Secondari', 'student', 'taught', 'structur', 'essay', 'format', 'improv', 'write', 'skill', ';', 'admiss', 'essay', 'often', 'use', 'univers', 'select', 'applic', ',', 'human', 'social', 'scienc', 'essay', 'often', 'use', 'way', 'assess', 'perform', 'student', 'final', 'exam', '.', 'The', 'concept', '``', 'essay', \"''\", 'extend', 'medium', 'beyond', 'write', '.', 'A', 'film', 'essay', 'movi', 'often', 'incorpor', 'documentari', 'filmmak', 'style', 'focus', 'evolut', 'theme', 'idea', '.', 'A', 'photograph', 'essay', 'cover', 'topic', 'link', 'seri', 'photograph', 'may', 'accompani', 'text', 'caption', '.']\n"
     ]
    }
   ],
   "source": [
    "#print(wordtoken)\n",
    "ps = PorterStemmer()\n",
    "stem = []\n",
    "for w in filtered_sentence:\n",
    "    stem.append(ps.stem(w))\n",
    "    \n",
    "print(stem)\n",
    "    \n",
    "import pickle\n",
    "file = open(\"exp2.pickle\",\"wb\")\n",
    "pickle.dump(stem,file)"
   ]
  },
  {
   "cell_type": "code",
   "execution_count": 46,
   "metadata": {
    "collapsed": false
   },
   "outputs": [
    {
     "name": "stdout",
     "output_type": "stream",
     "text": [
      "['An', 'essay', ',', 'gener', ',', 'piec', 'write', 'give', 'author', \"'s\", 'argument', '—', 'definit', 'vagu', ',', 'overlap', 'articl', ',', 'pamphlet', ',', 'short', 'stori', '.', 'Essay', 'tradit', 'sub-classifi', 'formal', 'inform', '.', 'Formal', 'essay', 'character', '``', 'seriou', 'purpos', ',', 'digniti', ',', 'logic', 'organ', ',', 'length', ',', \"''\", 'wherea', 'inform', 'essay', 'character', '``', 'person', 'element', '(', 'self-revel', ',', 'individu', 'tast', 'experi', ',', 'confidenti', 'manner', ')', ',', 'humor', ',', 'grace', 'style', ',', 'rambl', 'structur', ',', 'unconvention', 'novelti', 'theme', ',', \"''\", 'etc', '.', '[', '1', ']', 'Essay', 'commonli', 'use', 'literari', 'critic', ',', 'polit', 'manifesto', ',', 'learn', 'argument', ',', 'observ', 'daili', 'life', ',', 'recollect', ',', 'reflect', 'author', '.', 'Almost', 'modern', 'essay', 'written', 'prose', ',', 'work', 'vers', 'dub', 'essay', '(', 'e.g.', ',', 'Alexand', 'Pope', \"'s\", 'An', 'Essay', 'Critic', 'An', 'Essay', 'Man', ')', '.', 'While', 'breviti', 'usual', 'defin', 'essay', ',', 'volumin', 'work', 'like', 'John', 'Lock', \"'s\", 'An', 'Essay', 'Concern', 'Human', 'Understand', 'Thoma', 'Malthu', \"'s\", 'An', 'Essay', 'Principl', 'Popul', 'counterexampl', '.', 'In', 'countri', '(', 'e.g.', ',', 'Unit', 'State', 'Canada', ')', ',', 'essay', 'becom', 'major', 'part', 'formal', 'educ', '.', 'Secondari', 'student', 'taught', 'structur', 'essay', 'format', 'improv', 'write', 'skill', ';', 'admiss', 'essay', 'often', 'use', 'univers', 'select', 'applic', ',', 'human', 'social', 'scienc', 'essay', 'often', 'use', 'way', 'assess', 'perform', 'student', 'final', 'exam', '.', 'The', 'concept', '``', 'essay', \"''\", 'extend', 'medium', 'beyond', 'write', '.', 'A', 'film', 'essay', 'movi', 'often', 'incorpor', 'documentari', 'filmmak', 'style', 'focus', 'evolut', 'theme', 'idea', '.', 'A', 'photograph', 'essay', 'cover', 'topic', 'link', 'seri', 'photograph', 'may', 'accompani', 'text', 'caption', '.']\n"
     ]
    }
   ],
   "source": [
    "load_stem = pickle.load( open( \"exp2.pickle\", \"rb\" ) )\n",
    "\n",
    "print(load_stem)"
   ]
  },
  {
   "cell_type": "code",
   "execution_count": null,
   "metadata": {
    "collapsed": true
   },
   "outputs": [],
   "source": []
  }
 ],
 "metadata": {
  "kernelspec": {
   "display_name": "Python 3",
   "language": "python",
   "name": "python3"
  },
  "language_info": {
   "codemirror_mode": {
    "name": "ipython",
    "version": 3
   },
   "file_extension": ".py",
   "mimetype": "text/x-python",
   "name": "python",
   "nbconvert_exporter": "python",
   "pygments_lexer": "ipython3",
   "version": "3.5.1"
  }
 },
 "nbformat": 4,
 "nbformat_minor": 0
}
